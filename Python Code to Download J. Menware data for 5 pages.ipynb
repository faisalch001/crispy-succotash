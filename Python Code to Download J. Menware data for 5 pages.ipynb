{
  "nbformat": 4,
  "nbformat_minor": 0,
  "metadata": {
    "colab": {
      "provenance": []
    },
    "kernelspec": {
      "name": "python3",
      "display_name": "Python 3"
    },
    "language_info": {
      "name": "python"
    }
  },
  "cells": [
    {
      "cell_type": "code",
      "execution_count": 1,
      "metadata": {
        "id": "jkA18Ub3TxMe"
      },
      "outputs": [],
      "source": [
        "import requests\n",
        "from bs4 import BeautifulSoup as soup\n",
        "import csv\n",
        "import pandas as pd"
      ]
    },
    {
      "cell_type": "code",
      "source": [
        "source = requests.get(\"https://www.junaidjamshed.com/mens/kurta-pajama.html\")\n",
        "webpage = soup(source.content,features = \"html.parser\") \n"
      ],
      "metadata": {
        "id": "OSj-FwKKV6HC"
      },
      "execution_count": 2,
      "outputs": []
    },
    {
      "cell_type": "code",
      "source": [
        "links = webpage.find_all('a', class_=\"product-item-link\")\n"
      ],
      "metadata": {
        "id": "apCfI_3lV7q3"
      },
      "execution_count": 27,
      "outputs": []
    },
    {
      "cell_type": "code",
      "source": [],
      "metadata": {
        "id": "mn1EoX2oaCsl"
      },
      "execution_count": 3,
      "outputs": []
    },
    {
      "cell_type": "code",
      "source": [],
      "metadata": {
        "id": "J9NkG2VUbDdj"
      },
      "execution_count": 3,
      "outputs": []
    },
    {
      "cell_type": "code",
      "source": [],
      "metadata": {
        "id": "yy9oUmQqanI4"
      },
      "execution_count": 3,
      "outputs": []
    },
    {
      "cell_type": "code",
      "source": [],
      "metadata": {
        "id": "-XVc9gOTjrF4"
      },
      "execution_count": 3,
      "outputs": []
    },
    {
      "cell_type": "code",
      "source": [],
      "metadata": {
        "id": "hEuN1zEdbYdz"
      },
      "execution_count": 3,
      "outputs": []
    },
    {
      "cell_type": "code",
      "source": [],
      "metadata": {
        "id": "YhGTSAEpzykM"
      },
      "execution_count": 3,
      "outputs": []
    },
    {
      "cell_type": "code",
      "source": [],
      "metadata": {
        "id": "j8dD7fUZoJ6_"
      },
      "execution_count": 3,
      "outputs": []
    },
    {
      "cell_type": "code",
      "source": [],
      "metadata": {
        "id": "4flAlA_5pmCn"
      },
      "execution_count": 3,
      "outputs": []
    },
    {
      "cell_type": "code",
      "source": [
        "\n"
      ],
      "metadata": {
        "id": "srfRD9qOq3Zf"
      },
      "execution_count": 3,
      "outputs": []
    },
    {
      "cell_type": "code",
      "source": [
        "def extract_name(soup):\n",
        "    a = soup.find(\"span\", class_=\"base\").text.strip()\n",
        "    parts = a.split(\"|\")\n",
        "\n",
        "    if len(parts) >= 1:\n",
        "        name = parts[0].strip()\n",
        "    else:\n",
        "        name = ''\n",
        "\n",
        "    return name\n"
      ],
      "metadata": {
        "id": "xeNBdhGWy6wH"
      },
      "execution_count": 4,
      "outputs": []
    },
    {
      "cell_type": "code",
      "source": [
        "def extract_product_price(soup):\n",
        "    price_element = soup.find(\"span\", class_=\"price\")\n",
        "    if price_element is None:\n",
        "        return None\n",
        "\n",
        "    price_text = price_element.text.strip()\n",
        "\n",
        "    # Remove the currency symbol and comma\n",
        "    price_text = price_text.replace(\"PKR\", \"\").replace(\",\", \"\")\n",
        "\n",
        "    try:\n",
        "        price = float(price_text)\n",
        "    except ValueError:\n",
        "        price = None\n",
        "\n",
        "    return price\n",
        "\n"
      ],
      "metadata": {
        "id": "P4YZdA0Jo6PL"
      },
      "execution_count": 5,
      "outputs": []
    },
    {
      "cell_type": "code",
      "source": [
        "def extract_original_price(soup):\n",
        "    orig_price = soup.find(\"span\", class_=\"old-price sly-old-price\")\n",
        "    \n",
        "    if orig_price is not None:\n",
        "        original_price_text = orig_price.text.strip()\n",
        "        \n",
        "        try:\n",
        "            original_price = float(original_price_text.split(\"PKR\")[1].replace(\",\", \"\"))\n",
        "        except (IndexError, ValueError):\n",
        "            original_price = None\n",
        "    else:\n",
        "        original_price = None\n",
        "    \n",
        "    return original_price\n"
      ],
      "metadata": {
        "id": "tgsHGDxoz0IS"
      },
      "execution_count": 6,
      "outputs": []
    },
    {
      "cell_type": "code",
      "source": [
        "def extract_additional_attributes(soup):\n",
        "    keys = ['Color', 'Wear Type', 'Product Category', 'Collection', 'Fabric', 'Fit Type']\n",
        "    \n",
        "    table = soup.find(\"table\", class_=\"data table additional-attributes\")\n",
        "    if table is None:\n",
        "        return {}\n",
        "\n",
        "    values = []\n",
        "    for key in keys:\n",
        "        value = table.find('th', string=key)\n",
        "        if value is not None:\n",
        "            value = value.find_next('td').text.strip()\n",
        "        else:\n",
        "            value = \"\"\n",
        "        values.append(value)\n",
        "\n",
        "    attributes = dict(zip(keys, values))\n",
        "    return attributes\n"
      ],
      "metadata": {
        "id": "HZwU8xRl0cMG"
      },
      "execution_count": 7,
      "outputs": []
    },
    {
      "cell_type": "code",
      "source": [
        "#function to extract links to the product\n",
        "def extract_href_links(result_set):\n",
        "    links = []\n",
        "    for link in result_set:\n",
        "        href = link.get('href')\n",
        "        links.append(href)\n",
        "    return links\n"
      ],
      "metadata": {
        "id": "-49mEYqm2bPT"
      },
      "execution_count": 31,
      "outputs": []
    },
    {
      "cell_type": "code",
      "source": [
        "links = extract_href_links(links)"
      ],
      "metadata": {
        "id": "428Wm0qC23Bz"
      },
      "execution_count": 9,
      "outputs": []
    },
    {
      "cell_type": "code",
      "source": [],
      "metadata": {
        "id": "CqRM706R0frz"
      },
      "execution_count": 9,
      "outputs": []
    },
    {
      "cell_type": "code",
      "source": [],
      "metadata": {
        "id": "60Meab2Z3t6c"
      },
      "execution_count": 9,
      "outputs": []
    },
    {
      "cell_type": "code",
      "source": [
        "import requests\n",
        "from bs4 import BeautifulSoup\n",
        "import pandas as pd\n",
        "\n",
        "\n",
        "\n",
        "# Create empty lists to store the extracted details\n",
        "product_names = []\n",
        "product_prices = []\n",
        "product_original_prices = []\n",
        "product_colors = []\n",
        "product_wear_types = []\n",
        "product_categories = []\n",
        "product_collections = []\n",
        "product_fabrics = []\n",
        "product_fit_types = []\n",
        "\n",
        "# Iterate over the links and extract details for each product\n",
        "for link in links:\n",
        "    if link is None:\n",
        "        continue\n",
        "    \n",
        "    source = requests.get(link)\n",
        "    new_soup = BeautifulSoup(source.content, features=\"html.parser\")\n",
        "\n",
        "    # Extract product name\n",
        "    name = extract_name(new_soup)\n",
        "    product_names.append(name)\n",
        "\n",
        "    # Extract product price\n",
        "    price = extract_product_price(new_soup)\n",
        "    product_prices.append(price)\n",
        "\n",
        "    # Extract original price\n",
        "    original_price = extract_original_price(new_soup)\n",
        "    product_original_prices.append(original_price)\n",
        "\n",
        "    # Extract additional attributes\n",
        "    attributes = extract_additional_attributes(new_soup)\n",
        "    product_colors.append(attributes.get('Color', ''))\n",
        "    product_wear_types.append(attributes.get('Wear Type', ''))\n",
        "    product_categories.append(attributes.get('Product Category', ''))\n",
        "    product_collections.append(attributes.get('Collection', ''))\n",
        "    product_fabrics.append(attributes.get('Fabric', ''))\n",
        "    product_fit_types.append(attributes.get('Fit Type', ''))\n",
        "\n",
        "# Create a DataFrame from the extracted details\n",
        "data = {\n",
        "    'Name': product_names,\n",
        "    'Price': product_prices,\n",
        "    'Original Price': product_original_prices,\n",
        "    'Color': product_colors,\n",
        "    'Wear Type': product_wear_types,\n",
        "    'Product Category': product_categories,\n",
        "    'Collection': product_collections,\n",
        "    'Fabric': product_fabrics,\n",
        "    'Fit Type': product_fit_types\n",
        "}\n",
        "df = pd.DataFrame(data)\n",
        "\n",
        "# Save the DataFrame to a CSV file\n",
        "df.to_csv('product_details1.csv', index=False)\n"
      ],
      "metadata": {
        "id": "cvbSZLk67aQM"
      },
      "execution_count": 10,
      "outputs": []
    },
    {
      "cell_type": "code",
      "source": [],
      "metadata": {
        "id": "tOm90oDf6kQ-"
      },
      "execution_count": 10,
      "outputs": []
    },
    {
      "cell_type": "code",
      "source": [
        "def extract_all_page_links(soup, current_page_link):\n",
        "    page_links = []\n",
        "    \n",
        "    # Add the current page link to the list\n",
        "    page_links.append(current_page_link)\n",
        "    \n",
        "    all_page_links = soup.find_all(\"a\", class_=\"page\")\n",
        "    for link in all_page_links:\n",
        "        href = link.get(\"href\")\n",
        "        page_links.append(href)\n",
        "    \n",
        "    return page_links\n",
        "\n",
        "\n"
      ],
      "metadata": {
        "id": "B6Q0VM0L6xBA"
      },
      "execution_count": 11,
      "outputs": []
    },
    {
      "cell_type": "code",
      "source": [
        "all_page_links = extract_all_page_links(webpage,'https://www.junaidjamshed.com/mens/kurta-pajama.html')\n",
        "all_page_links\n"
      ],
      "metadata": {
        "colab": {
          "base_uri": "https://localhost:8080/"
        },
        "id": "tdQUOiMY7DQ2",
        "outputId": "79c9b9e2-85d0-4e30-c7c9-cc6656832079"
      },
      "execution_count": 12,
      "outputs": [
        {
          "output_type": "execute_result",
          "data": {
            "text/plain": [
              "['https://www.junaidjamshed.com/mens/kurta-pajama.html',\n",
              " 'https://www.junaidjamshed.com/mens/kurta-pajama.html?p=2',\n",
              " 'https://www.junaidjamshed.com/mens/kurta-pajama.html?p=3',\n",
              " 'https://www.junaidjamshed.com/mens/kurta-pajama.html?p=4',\n",
              " 'https://www.junaidjamshed.com/mens/kurta-pajama.html?p=5']"
            ]
          },
          "metadata": {},
          "execution_count": 12
        }
      ]
    },
    {
      "cell_type": "code",
      "source": [],
      "metadata": {
        "id": "4udD1Tpw9DP0"
      },
      "execution_count": 12,
      "outputs": []
    },
    {
      "cell_type": "code",
      "source": [],
      "metadata": {
        "id": "A9cTlhog83CV"
      },
      "execution_count": 38,
      "outputs": []
    },
    {
      "cell_type": "code",
      "source": [],
      "metadata": {
        "id": "SfIdwsM9qWZ2"
      },
      "execution_count": null,
      "outputs": []
    },
    {
      "cell_type": "code",
      "source": [],
      "metadata": {
        "id": "VDQYGqEaxS6M"
      },
      "execution_count": 38,
      "outputs": []
    },
    {
      "cell_type": "code",
      "source": [],
      "metadata": {
        "id": "x0W0OlsmxZcV"
      },
      "execution_count": 38,
      "outputs": []
    },
    {
      "cell_type": "code",
      "source": [
        "#function to extract links to the product\n",
        "def extract_href_links(result_set):\n",
        "    links = []\n",
        "    for link in result_set:\n",
        "        href = link.get('href')\n",
        "        links.append(href)\n",
        "    return links\n"
      ],
      "metadata": {
        "id": "Q_SSZFx78Srl",
        "colab": {
          "base_uri": "https://localhost:8080/"
        },
        "outputId": "72a06950-9b82-4d12-bf26-ac303fc858b5"
      },
      "execution_count": 26,
      "outputs": [
        {
          "output_type": "execute_result",
          "data": {
            "text/plain": [
              "['https://www.junaidjamshed.com/serbia-light-blue-cotton-kurta-trouser.html',\n",
              " 'https://www.junaidjamshed.com/shanghai-navy-cotton-kurta-trouser.html',\n",
              " 'https://www.junaidjamshed.com/ecuador-black-cotton-kurta-trouser.html',\n",
              " 'https://www.junaidjamshed.com/fiji-indigo-cotton-kurta-trouser.html',\n",
              " 'https://www.junaidjamshed.com/scotland-royal-blue-cotton-kurta-trouser.html',\n",
              " 'https://www.junaidjamshed.com/athens-light-olive-blended-kurta-trouser.html',\n",
              " 'https://www.junaidjamshed.com/lisbon-white-cotton-kurta-trouser.html',\n",
              " 'https://www.junaidjamshed.com/andorra-sky-cotton-kurta-trouser.html',\n",
              " 'https://www.junaidjamshed.com/greyish-green-blended-kurta-pajama-jjkp-a-32647.html',\n",
              " 'https://www.junaidjamshed.com/shanghai-stone-blue-cotton-kurta-trouser.html',\n",
              " 'https://www.junaidjamshed.com/andorra-grey-cotton-kurta-trouser.html',\n",
              " 'https://www.junaidjamshed.com/belfort-blue-linen-kurta-trouser.html',\n",
              " None,\n",
              " None]"
            ]
          },
          "metadata": {},
          "execution_count": 26
        }
      ]
    },
    {
      "cell_type": "code",
      "source": [],
      "metadata": {
        "id": "nx6tXYYN9JQk",
        "colab": {
          "base_uri": "https://localhost:8080/"
        },
        "outputId": "007c13da-f8e8-4e50-dfe5-b084adf8cbd1"
      },
      "execution_count": 34,
      "outputs": [
        {
          "output_type": "execute_result",
          "data": {
            "text/plain": [
              "['https://www.junaidjamshed.com/serbia-light-blue-cotton-kurta-trouser.html',\n",
              " 'https://www.junaidjamshed.com/shanghai-navy-cotton-kurta-trouser.html',\n",
              " 'https://www.junaidjamshed.com/ecuador-black-cotton-kurta-trouser.html',\n",
              " 'https://www.junaidjamshed.com/fiji-indigo-cotton-kurta-trouser.html',\n",
              " 'https://www.junaidjamshed.com/scotland-royal-blue-cotton-kurta-trouser.html',\n",
              " 'https://www.junaidjamshed.com/athens-light-olive-blended-kurta-trouser.html',\n",
              " 'https://www.junaidjamshed.com/lisbon-white-cotton-kurta-trouser.html',\n",
              " 'https://www.junaidjamshed.com/andorra-sky-cotton-kurta-trouser.html',\n",
              " 'https://www.junaidjamshed.com/greyish-green-blended-kurta-pajama-jjkp-a-32647.html',\n",
              " 'https://www.junaidjamshed.com/shanghai-stone-blue-cotton-kurta-trouser.html',\n",
              " 'https://www.junaidjamshed.com/andorra-grey-cotton-kurta-trouser.html',\n",
              " 'https://www.junaidjamshed.com/belfort-blue-linen-kurta-trouser.html',\n",
              " None,\n",
              " None]"
            ]
          },
          "metadata": {},
          "execution_count": 34
        }
      ]
    },
    {
      "cell_type": "code",
      "source": [],
      "metadata": {
        "id": "wZeonCqYcl6L"
      },
      "execution_count": 38,
      "outputs": []
    },
    {
      "cell_type": "code",
      "source": [
        "import requests\n",
        "from bs4 import BeautifulSoup as soup\n",
        "import csv\n",
        "import pandas as pd\n",
        "\n",
        "# Create empty lists to store the extracted details\n",
        "product_names = []\n",
        "product_prices = []\n",
        "product_original_prices = []\n",
        "product_colors = []\n",
        "product_wear_types = []\n",
        "product_categories = []\n",
        "product_collections = []\n",
        "product_fabrics = []\n",
        "product_fit_types = []\n",
        "\n",
        "# Iterate over the page links\n",
        "for link in all_page_links:\n",
        "    source = requests.get(link)\n",
        "    webpage = soup(source.content, features=\"html.parser\")\n",
        "    linkss = webpage.find_all('a', class_=\"product-item-link\")\n",
        "\n",
        "    # Extract product details from each link\n",
        "    # Extract product details from each link\n",
        "    pro_links = extract_href_links(linkss)\n",
        "    print(pro_links)\n",
        "\n",
        "    for link in pro_links:\n",
        "        if link is None:\n",
        "            continue\n",
        "\n",
        "        source = requests.get(link)\n",
        "        new_soup = soup(source.content, features=\"html.parser\")\n",
        "\n",
        "        # Extract product name\n",
        "        name = extract_name(new_soup)\n",
        "        product_names.append(name)\n",
        "\n",
        "        # Extract product price\n",
        "        price = extract_product_price(new_soup)\n",
        "        product_prices.append(price)\n",
        "\n",
        "        # Extract original price\n",
        "        original_price = extract_original_price(new_soup)\n",
        "        product_original_prices.append(original_price)\n",
        "\n",
        "        # Extract additional attributes\n",
        "        attributes = extract_additional_attributes(new_soup)\n",
        "        product_colors.append(attributes.get('Color', ''))\n",
        "        product_wear_types.append(attributes.get('Wear Type', ''))\n",
        "        product_categories.append(attributes.get('Product Category', ''))\n",
        "        product_collections.append(attributes.get('Collection', ''))\n",
        "        product_fabrics.append(attributes.get('Fabric', ''))\n",
        "        product_fit_types.append(attributes.get('Fit Type', ''))\n",
        "\n",
        "\n",
        "# Create a DataFrame from the extracted details\n",
        "data = {\n",
        "    'Name': product_names,\n",
        "    'Price': product_prices,\n",
        "    'Original Price': product_original_prices,\n",
        "    'Color': product_colors,\n",
        "    'Wear Type': product_wear_types,\n",
        "    'Product Category': product_categories,\n",
        "    'Collection': product_collections,\n",
        "    'Fabric': product_fabrics,\n",
        "    'Fit Type': product_fit_types\n",
        "}\n",
        "df = pd.DataFrame(data)\n",
        "\n",
        "# Save the DataFrame to a CSV file\n",
        "df.to_csv('product_details.csv', index=False)\n"
      ],
      "metadata": {
        "colab": {
          "base_uri": "https://localhost:8080/"
        },
        "id": "h9qSoUx6diKC",
        "outputId": "32e39232-6a1b-4963-cd69-c3e6007e8f0b"
      },
      "execution_count": 38,
      "outputs": [
        {
          "output_type": "stream",
          "name": "stdout",
          "text": [
            "['https://www.junaidjamshed.com/greyish-green-cotton-kurta-pajama-jjkp-s-32761.html', 'https://www.junaidjamshed.com/pale-blue-polyester-kurta-pajama-jjkp-s-34423.html', 'https://www.junaidjamshed.com/nimes-light-blue-cotton-kurta-trouser.html', 'https://www.junaidjamshed.com/panama-coffee-brown-cotton-kurta-trouser.html', 'https://www.junaidjamshed.com/athens-light-brown-blended-kurta-trouser.html', 'https://www.junaidjamshed.com/pisa-caramel-brown-cotton-kurta-trouser.html', 'https://www.junaidjamshed.com/oslo-milky-white-cotton-kurta-trouser.html', 'https://www.junaidjamshed.com/beige-cotton-kurta-pajama-jjkp-s-37732.html', 'https://www.junaidjamshed.com/pisa-wood-brown-cotton-kurta-trouser.html', 'https://www.junaidjamshed.com/ecuador-milky-white-cotton-kurta-trouser.html', 'https://www.junaidjamshed.com/belfort-milky-white-linen-kurta-trouser.html', 'https://www.junaidjamshed.com/nice-sand-linen-kurta-trouser.html', None, None]\n",
            "['https://www.junaidjamshed.com/nice-deep-blue-linen-kurta-trouser.html', 'https://www.junaidjamshed.com/grey-blended-kurta-pajama-jjkp-s-32606.html', 'https://www.junaidjamshed.com/california-black-cotton-kurta-trouser.html', 'https://www.junaidjamshed.com/dark-brown-blended-kurta-pajama-jjkp-s-34358.html', 'https://www.junaidjamshed.com/two-tone-purple-cotton-kurta-pajama-jjkp-s-32634.html', 'https://www.junaidjamshed.com/white-blended-kurta-pajama-jjkp-s-90371.html', 'https://www.junaidjamshed.com/oslo-black-cotton-kurta-trouser.html', 'https://www.junaidjamshed.com/serbia-beige-cotton-kurta-trouser.html', 'https://www.junaidjamshed.com/fiji-purple-heather-cotton-kurta-trouser.html', 'https://www.junaidjamshed.com/denim-blue-blended-kurta-pajama-jjkp-s-47028.html', 'https://www.junaidjamshed.com/deep-navy-cvc-kurta-pajama-jjkp-s-32703.html', 'https://www.junaidjamshed.com/lisbon-off-white-cotton-kurta-trouser.html', None, None]\n",
            "['https://www.junaidjamshed.com/california-grey-cotton-kurta-trouser.html', 'https://www.junaidjamshed.com/izmir-black-cotton-kurta-trouser.html', 'https://www.junaidjamshed.com/costa-rica-stone-blue-cotton-kurta-trouser.html', 'https://www.junaidjamshed.com/fiji-vintage-brown-cotton-kurta-trouser.html', 'https://www.junaidjamshed.com/grey-cvc-kurta-pajama-jjkp-s-32699.html', 'https://www.junaidjamshed.com/two-tone-rust-cotton-kurta-pajama-jjkp-s-32638.html', 'https://www.junaidjamshed.com/off-white-blended-kurta-pajama-jjkp-s-90370.html', 'https://www.junaidjamshed.com/oslo-navy-cotton-kurta-trouser.html', 'https://www.junaidjamshed.com/nancy-sky-linen-kurta-trouser.html', 'https://www.junaidjamshed.com/nancy-black-linen-kurta-trouser.html', 'https://www.junaidjamshed.com/fawn-blended-kurta-pajama-jjkp-s-90369.html', 'https://www.junaidjamshed.com/blue-blended-kurta-pajama-jjkp-a-34280.html', None, None]\n",
            "['https://www.junaidjamshed.com/light-blue-cotton-kurta-pajama-jjkp-s-32715.html', 'https://www.junaidjamshed.com/denim-blue-cotton-kurta-pajama-jjkp-a-34304.html', 'https://www.junaidjamshed.com/navy-blue-cotton-kurta-pajama-jjkp-s-47004.html', 'https://www.junaidjamshed.com/black-blended-kurta-pajama-jjkp-s-47017.html', 'https://www.junaidjamshed.com/blue-blended-kurta-pajama-jjkp-s-47018.html', 'https://www.junaidjamshed.com/black-blended-kurta-pajama-jjkp-s-32730.html', 'https://www.junaidjamshed.com/dark-blue-blended-kurta-pajama-jjkp-s-34359.html', 'https://www.junaidjamshed.com/hatched-purple-cotton-kurta-pajama-jjkp-s-34288.html', 'https://www.junaidjamshed.com/denmark-light-blue-cotton-kurta-trouser.html', 'https://www.junaidjamshed.com/shanghai-grey-cotton-kurta-trouser.html', 'https://www.junaidjamshed.com/pisa-cedar-brown-cotton-kurta-trouser.html', 'https://www.junaidjamshed.com/serbia-light-mint-cotton-kurta-trouser.html', None, None]\n",
            "['https://www.junaidjamshed.com/serbia-light-blue-cotton-kurta-trouser.html', 'https://www.junaidjamshed.com/shanghai-navy-cotton-kurta-trouser.html', 'https://www.junaidjamshed.com/ecuador-black-cotton-kurta-trouser.html', 'https://www.junaidjamshed.com/fiji-indigo-cotton-kurta-trouser.html', 'https://www.junaidjamshed.com/scotland-royal-blue-cotton-kurta-trouser.html', 'https://www.junaidjamshed.com/athens-light-olive-blended-kurta-trouser.html', 'https://www.junaidjamshed.com/lisbon-white-cotton-kurta-trouser.html', 'https://www.junaidjamshed.com/andorra-sky-cotton-kurta-trouser.html', 'https://www.junaidjamshed.com/greyish-green-blended-kurta-pajama-jjkp-a-32647.html', 'https://www.junaidjamshed.com/shanghai-stone-blue-cotton-kurta-trouser.html', 'https://www.junaidjamshed.com/andorra-grey-cotton-kurta-trouser.html', 'https://www.junaidjamshed.com/belfort-blue-linen-kurta-trouser.html', None, None]\n"
          ]
        }
      ]
    },
    {
      "cell_type": "code",
      "source": [],
      "metadata": {
        "id": "w1b7xFtGeFh-"
      },
      "execution_count": null,
      "outputs": []
    }
  ]
}